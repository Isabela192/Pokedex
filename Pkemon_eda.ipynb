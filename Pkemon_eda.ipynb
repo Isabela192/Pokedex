{
  "nbformat": 4,
  "nbformat_minor": 0,
  "metadata": {
    "colab": {
      "name": "Untitled0.ipynb",
      "private_outputs": true,
      "provenance": [],
      "mount_file_id": "1RWT-at5JWoi-q_4sHeGCqwj53f3J9qZa",
      "authorship_tag": "ABX9TyPsT2iGK+T/lMjWDS22VsKc"
    },
    "kernelspec": {
      "name": "python3",
      "display_name": "Python 3"
    },
    "language_info": {
      "name": "python"
    }
  },
  "cells": [
    {
      "cell_type": "code",
      "metadata": {
        "id": "BMDCRR7TjBVi"
      },
      "source": [
        "import pandas as pd\n",
        "import sqlalchemy as db\n",
        "from sqlalchemy.orm import sessionmaker\n",
        "import plotly.graph_objects as go\n",
        "import plotly.express as px\n",
        "from google.colab import drive\n",
        "drive.mount('/content/drive')"
      ],
      "execution_count": null,
      "outputs": []
    },
    {
      "cell_type": "code",
      "metadata": {
        "id": "kihe9Lk1jkh8"
      },
      "source": [
        "engine = db.create_engine('sqlite://')\n",
        "df = pd.read_csv('/content/Pokemon_cleaned.csv')\n",
        "df.to_sql(name='pokemon', con=engine, if_exists='replace')"
      ],
      "execution_count": null,
      "outputs": []
    },
    {
      "cell_type": "code",
      "metadata": {
        "id": "yHr-NleTl1fE"
      },
      "source": [
        "Session=sessionmaker(bind=engine)\n",
        "session=Session()\n",
        "meta=db.MetaData(engine)\n",
        "\n",
        "pokemon=db.Table('pokemon', meta, autoload=True)"
      ],
      "execution_count": null,
      "outputs": []
    },
    {
      "cell_type": "code",
      "metadata": {
        "id": "iq2403qGmJV0"
      },
      "source": [
        ""
      ],
      "execution_count": null,
      "outputs": []
    }
  ]
}